{
 "cells": [
  {
   "cell_type": "code",
   "execution_count": 2,
   "id": "9a682a90",
   "metadata": {},
   "outputs": [],
   "source": [
    "import pandas as pd\n",
    "import pyspark\n",
    "from pyspark.sql import SparkSession"
   ]
  },
  {
   "cell_type": "code",
   "execution_count": 3,
   "id": "4343ab6d",
   "metadata": {},
   "outputs": [
    {
     "name": "stderr",
     "output_type": "stream",
     "text": [
      "Setting default log level to \"WARN\".\n",
      "To adjust logging level use sc.setLogLevel(newLevel). For SparkR, use setLogLevel(newLevel).\n",
      "24/08/08 11:58:33 WARN NativeCodeLoader: Unable to load native-hadoop library for your platform... using builtin-java classes where applicable\n"
     ]
    }
   ],
   "source": [
    "spark = SparkSession.builder.appName('firstProject').getOrCreate()"
   ]
  },
  {
   "cell_type": "code",
   "execution_count": 4,
   "id": "898df742",
   "metadata": {},
   "outputs": [
    {
     "name": "stderr",
     "output_type": "stream",
     "text": [
      "                                                                                \r"
     ]
    }
   ],
   "source": [
    "df = spark.read.csv('Google-Playstore.csv',header=True,inferSchema=True)"
   ]
  },
  {
   "cell_type": "code",
   "execution_count": 5,
   "id": "e0e5cb06",
   "metadata": {},
   "outputs": [
    {
     "name": "stderr",
     "output_type": "stream",
     "text": [
      "                                                                                \r"
     ]
    },
    {
     "data": {
      "text/plain": [
       "2312944"
      ]
     },
     "execution_count": 5,
     "metadata": {},
     "output_type": "execute_result"
    }
   ],
   "source": [
    "df.count()"
   ]
  },
  {
   "cell_type": "code",
   "execution_count": 6,
   "id": "beabd50e",
   "metadata": {},
   "outputs": [
    {
     "name": "stdout",
     "output_type": "stream",
     "text": [
      "root\n",
      " |-- App Name: string (nullable = true)\n",
      " |-- App Id: string (nullable = true)\n",
      " |-- Category: string (nullable = true)\n",
      " |-- Rating: string (nullable = true)\n",
      " |-- Rating Count: string (nullable = true)\n",
      " |-- Installs: string (nullable = true)\n",
      " |-- Minimum Installs: string (nullable = true)\n",
      " |-- Maximum Installs: string (nullable = true)\n",
      " |-- Free: string (nullable = true)\n",
      " |-- Price: string (nullable = true)\n",
      " |-- Currency: string (nullable = true)\n",
      " |-- Size: string (nullable = true)\n",
      " |-- Minimum Android: string (nullable = true)\n",
      " |-- Developer Id: string (nullable = true)\n",
      " |-- Developer Website: string (nullable = true)\n",
      " |-- Developer Email: string (nullable = true)\n",
      " |-- Released: string (nullable = true)\n",
      " |-- Last Updated: string (nullable = true)\n",
      " |-- Content Rating: string (nullable = true)\n",
      " |-- Privacy Policy: string (nullable = true)\n",
      " |-- Ad Supported: string (nullable = true)\n",
      " |-- In App Purchases: string (nullable = true)\n",
      " |-- Editors Choice: string (nullable = true)\n",
      " |-- Scraped Time: string (nullable = true)\n",
      "\n"
     ]
    }
   ],
   "source": [
    "df.printSchema()"
   ]
  },
  {
   "cell_type": "markdown",
   "id": "fa9a95e5",
   "metadata": {},
   "source": [
    "# Data Cleaning \n",
    "1. Removing non-required column"
   ]
  },
  {
   "cell_type": "code",
   "execution_count": 7,
   "id": "8e38a753",
   "metadata": {},
   "outputs": [
    {
     "name": "stdout",
     "output_type": "stream",
     "text": [
      "+--------+-------------------+---------+------+------------+--------+----------------+----------------+----+-----+--------+----+---------------+--------------------+--------------------+--------------------+------------+------------+--------------+--------------------+------------+----------------+--------------+-------------------+\n",
      "|App Name|             App Id| Category|Rating|Rating Count|Installs|Minimum Installs|Maximum Installs|Free|Price|Currency|Size|Minimum Android|        Developer Id|   Developer Website|     Developer Email|    Released|Last Updated|Content Rating|      Privacy Policy|Ad Supported|In App Purchases|Editors Choice|       Scraped Time|\n",
      "+--------+-------------------+---------+------+------------+--------+----------------+----------------+----+-----+--------+----+---------------+--------------------+--------------------+--------------------+------------+------------+--------------+--------------------+------------+----------------+--------------+-------------------+\n",
      "| Gakondo|com.ishakwe.gakondo|Adventure|   0.0|           0|     10+|              10|              15|True|    0|     USD| 10M|     7.1 and up|Jean Confident Ir...|https://beniyizib...|jean21101999@gmai...|Feb 26, 2020|Feb 26, 2020|      Everyone|https://beniyizib...|       False|           False|         False|2021-06-15 20:19:35|\n",
      "+--------+-------------------+---------+------+------------+--------+----------------+----------------+----+-----+--------+----+---------------+--------------------+--------------------+--------------------+------------+------------+--------------+--------------------+------------+----------------+--------------+-------------------+\n",
      "only showing top 1 row\n",
      "\n"
     ]
    }
   ],
   "source": [
    "df.show(1)"
   ]
  },
  {
   "cell_type": "code",
   "execution_count": 8,
   "id": "13478ae8",
   "metadata": {},
   "outputs": [],
   "source": [
    "df = df.drop('App Id','Rating Count','Minimum Installs','Maximum Installs','Minimum Android','Developer Id','Developer Website')"
   ]
  },
  {
   "cell_type": "code",
   "execution_count": 9,
   "id": "9217e734",
   "metadata": {},
   "outputs": [],
   "source": [
    "df = df.drop('Developer Email','Released','Last Updated','Privacy Policy','Ad Supported','In App Purchases','Editors Choice','Scraped Time')"
   ]
  },
  {
   "cell_type": "code",
   "execution_count": 10,
   "id": "f4a14c94",
   "metadata": {},
   "outputs": [
    {
     "name": "stdout",
     "output_type": "stream",
     "text": [
      "+--------------------+-------------+------+--------+----+-----+--------+----+--------------+\n",
      "|            App Name|     Category|Rating|Installs|Free|Price|Currency|Size|Content Rating|\n",
      "+--------------------+-------------+------+--------+----+-----+--------+----+--------------+\n",
      "|             Gakondo|    Adventure|   0.0|     10+|True|    0|     USD| 10M|      Everyone|\n",
      "| Ampere Battery Info|        Tools|   4.4|  5,000+|True|    0|     USD|2.9M|      Everyone|\n",
      "|              Vibook| Productivity|   0.0|     50+|True|    0|     USD|3.7M|      Everyone|\n",
      "|Smart City Trichy...|Communication|   5.0|     10+|True|    0|     USD|1.8M|      Everyone|\n",
      "|             GROW.me|        Tools|   0.0|    100+|True|    0|     USD|6.2M|      Everyone|\n",
      "+--------------------+-------------+------+--------+----+-----+--------+----+--------------+\n",
      "only showing top 5 rows\n",
      "\n"
     ]
    }
   ],
   "source": [
    "df.show(5)"
   ]
  },
  {
   "cell_type": "markdown",
   "id": "4fdf05dd",
   "metadata": {},
   "source": [
    "# Removing unwanted character and changing datatype to proper datatype"
   ]
  },
  {
   "cell_type": "code",
   "execution_count": 11,
   "id": "e74d042a",
   "metadata": {},
   "outputs": [],
   "source": [
    "from pyspark.sql.functions import regexp_replace, col\n",
    "from pyspark.sql.types import IntegerType, DoubleType, BooleanType"
   ]
  },
  {
   "cell_type": "code",
   "execution_count": 12,
   "id": "6cb7a5b4",
   "metadata": {},
   "outputs": [],
   "source": [
    "df = df.withColumn('Installs',regexp_replace('Installs','[^0-9]',''))"
   ]
  },
  {
   "cell_type": "code",
   "execution_count": 13,
   "id": "06605d03",
   "metadata": {},
   "outputs": [
    {
     "name": "stdout",
     "output_type": "stream",
     "text": [
      "+--------------------+-------------+------+--------+----+-----+--------+----+--------------+\n",
      "|            App Name|     Category|Rating|Installs|Free|Price|Currency|Size|Content Rating|\n",
      "+--------------------+-------------+------+--------+----+-----+--------+----+--------------+\n",
      "|             Gakondo|    Adventure|   0.0|      10|True|    0|     USD| 10M|      Everyone|\n",
      "| Ampere Battery Info|        Tools|   4.4|    5000|True|    0|     USD|2.9M|      Everyone|\n",
      "|              Vibook| Productivity|   0.0|      50|True|    0|     USD|3.7M|      Everyone|\n",
      "|Smart City Trichy...|Communication|   5.0|      10|True|    0|     USD|1.8M|      Everyone|\n",
      "|             GROW.me|        Tools|   0.0|     100|True|    0|     USD|6.2M|      Everyone|\n",
      "+--------------------+-------------+------+--------+----+-----+--------+----+--------------+\n",
      "only showing top 5 rows\n",
      "\n"
     ]
    }
   ],
   "source": [
    "df.show(5)"
   ]
  },
  {
   "cell_type": "code",
   "execution_count": 14,
   "id": "8808cfe8",
   "metadata": {},
   "outputs": [
    {
     "name": "stdout",
     "output_type": "stream",
     "text": [
      "root\n",
      " |-- App Name: string (nullable = true)\n",
      " |-- Category: string (nullable = true)\n",
      " |-- Rating: string (nullable = true)\n",
      " |-- Installs: string (nullable = true)\n",
      " |-- Free: string (nullable = true)\n",
      " |-- Price: string (nullable = true)\n",
      " |-- Currency: string (nullable = true)\n",
      " |-- Size: string (nullable = true)\n",
      " |-- Content Rating: string (nullable = true)\n",
      "\n"
     ]
    }
   ],
   "source": [
    "df.printSchema()"
   ]
  },
  {
   "cell_type": "markdown",
   "id": "84e5d52a",
   "metadata": {},
   "source": [
    "changing dataType"
   ]
  },
  {
   "cell_type": "code",
   "execution_count": 15,
   "id": "0afea23f",
   "metadata": {
    "scrolled": false
   },
   "outputs": [],
   "source": [
    "df = df.withColumn('Installs',col('Installs').cast('int'))\\\n",
    "             .withColumn('Rating',col('Rating').cast('double'))\\\n",
    "             .withColumn('Free',col('Free').cast('boolean'))\\\n",
    "             .withColumn('Price',col('Price').cast('double'))"
   ]
  },
  {
   "cell_type": "code",
   "execution_count": 16,
   "id": "4b62a76a",
   "metadata": {},
   "outputs": [
    {
     "name": "stdout",
     "output_type": "stream",
     "text": [
      "+--------------------+-------------+------+--------+----+-----+--------+----+--------------+\n",
      "|            App Name|     Category|Rating|Installs|Free|Price|Currency|Size|Content Rating|\n",
      "+--------------------+-------------+------+--------+----+-----+--------+----+--------------+\n",
      "|             Gakondo|    Adventure|   0.0|      10|true|  0.0|     USD| 10M|      Everyone|\n",
      "| Ampere Battery Info|        Tools|   4.4|    5000|true|  0.0|     USD|2.9M|      Everyone|\n",
      "|              Vibook| Productivity|   0.0|      50|true|  0.0|     USD|3.7M|      Everyone|\n",
      "|Smart City Trichy...|Communication|   5.0|      10|true|  0.0|     USD|1.8M|      Everyone|\n",
      "|             GROW.me|        Tools|   0.0|     100|true|  0.0|     USD|6.2M|      Everyone|\n",
      "+--------------------+-------------+------+--------+----+-----+--------+----+--------------+\n",
      "only showing top 5 rows\n",
      "\n"
     ]
    }
   ],
   "source": [
    "df.show(5)"
   ]
  },
  {
   "cell_type": "code",
   "execution_count": 17,
   "id": "414e7bbf",
   "metadata": {},
   "outputs": [
    {
     "name": "stdout",
     "output_type": "stream",
     "text": [
      "root\n",
      " |-- App Name: string (nullable = true)\n",
      " |-- Category: string (nullable = true)\n",
      " |-- Rating: double (nullable = true)\n",
      " |-- Installs: integer (nullable = true)\n",
      " |-- Free: boolean (nullable = true)\n",
      " |-- Price: double (nullable = true)\n",
      " |-- Currency: string (nullable = true)\n",
      " |-- Size: string (nullable = true)\n",
      " |-- Content Rating: string (nullable = true)\n",
      "\n"
     ]
    }
   ],
   "source": [
    "df.printSchema()"
   ]
  },
  {
   "cell_type": "markdown",
   "id": "05827435",
   "metadata": {},
   "source": [
    "# Performing ETL "
   ]
  },
  {
   "cell_type": "markdown",
   "id": "204bcef8",
   "metadata": {},
   "source": [
    "Renamimg column and checking count of duplicate values first"
   ]
  },
  {
   "cell_type": "code",
   "execution_count": 18,
   "id": "0aa40f18",
   "metadata": {},
   "outputs": [],
   "source": [
    "df = df.withColumnRenamed('App Name','AppName')"
   ]
  },
  {
   "cell_type": "code",
   "execution_count": 19,
   "id": "ca768e0b",
   "metadata": {},
   "outputs": [],
   "source": [
    "df.createOrReplaceTempView('app')"
   ]
  },
  {
   "cell_type": "code",
   "execution_count": 20,
   "id": "ab36c020",
   "metadata": {},
   "outputs": [
    {
     "name": "stderr",
     "output_type": "stream",
     "text": [
      "\r",
      "[Stage 9:>                                                        (0 + 12) / 12]\r"
     ]
    },
    {
     "name": "stdout",
     "output_type": "stream",
     "text": [
      "+--------------+--------+\n",
      "|       AppName|count(1)|\n",
      "+--------------+--------+\n",
      "|   Tic Tac Toe|     382|\n",
      "|    Calculator|     261|\n",
      "|    Flashlight|     256|\n",
      "|BMI Calculator|     201|\n",
      "|Age Calculator|     190|\n",
      "|        Sudoku|     174|\n",
      "|       Gallery|     164|\n",
      "|Unit Converter|     151|\n",
      "|  Music Player|     147|\n",
      "|     Solitaire|     145|\n",
      "+--------------+--------+\n",
      "\n"
     ]
    },
    {
     "name": "stderr",
     "output_type": "stream",
     "text": [
      "\r",
      "[Stage 11:===============================================>        (11 + 2) / 13]\r",
      "\r",
      "                                                                                \r"
     ]
    }
   ],
   "source": [
    "spark.sql('select AppName, count(1) from app \\\n",
    "            group by AppName order by count(1) desc limit 10;').show()"
   ]
  },
  {
   "cell_type": "markdown",
   "id": "b5c4928e",
   "metadata": {},
   "source": [
    "# select top 10 install apps"
   ]
  },
  {
   "cell_type": "code",
   "execution_count": 21,
   "id": "849a61b3",
   "metadata": {},
   "outputs": [
    {
     "name": "stderr",
     "output_type": "stream",
     "text": [
      "[Stage 12:====>                                                   (1 + 11) / 12]\r"
     ]
    },
    {
     "name": "stdout",
     "output_type": "stream",
     "text": [
      "+--------------------+-------------+\n",
      "|             AppName|total_install|\n",
      "+--------------------+-------------+\n",
      "|       YouTube Music|   2010000000|\n",
      "|          Calculator|   1534571379|\n",
      "|              TikTok|   1100000000|\n",
      "|Samsung Security ...|   1100000000|\n",
      "|            Messages|   1024723601|\n",
      "|               Clock|   1001061360|\n",
      "|       Secure Folder|   1000250000|\n",
      "|        Android Auto|   1000010000|\n",
      "|         Device Care|   1000010000|\n",
      "|            Briefing|   1000001050|\n",
      "+--------------------+-------------+\n",
      "\n"
     ]
    },
    {
     "name": "stderr",
     "output_type": "stream",
     "text": [
      "\r",
      "                                                                                \r"
     ]
    }
   ],
   "source": [
    "spark.sql('select AppName, sum(Installs) as total_install\\\n",
    "          from app \\\n",
    "            group by AppName order by sum(Installs) desc limit 10;').show()"
   ]
  },
  {
   "cell_type": "code",
   "execution_count": 22,
   "id": "ea90f5e6",
   "metadata": {},
   "outputs": [
    {
     "name": "stdout",
     "output_type": "stream",
     "text": [
      "+-------------------+------------+------+--------+----+-----+--------+----+--------------+\n",
      "|            AppName|    Category|Rating|Installs|Free|Price|Currency|Size|Content Rating|\n",
      "+-------------------+------------+------+--------+----+-----+--------+----+--------------+\n",
      "|            Gakondo|   Adventure|   0.0|      10|true|  0.0|     USD| 10M|      Everyone|\n",
      "|Ampere Battery Info|       Tools|   4.4|    5000|true|  0.0|     USD|2.9M|      Everyone|\n",
      "|             Vibook|Productivity|   0.0|      50|true|  0.0|     USD|3.7M|      Everyone|\n",
      "+-------------------+------------+------+--------+----+-----+--------+----+--------------+\n",
      "only showing top 3 rows\n",
      "\n"
     ]
    }
   ],
   "source": [
    "df.show(3)"
   ]
  },
  {
   "cell_type": "markdown",
   "id": "bd65faa2",
   "metadata": {},
   "source": [
    "# Top 10 installed apps and type of distribution (free/paid)"
   ]
  },
  {
   "cell_type": "code",
   "execution_count": 23,
   "id": "9b8e7b75",
   "metadata": {},
   "outputs": [
    {
     "name": "stderr",
     "output_type": "stream",
     "text": [
      "\r",
      "[Stage 16:>                                                       (0 + 12) / 12]\r"
     ]
    },
    {
     "name": "stdout",
     "output_type": "stream",
     "text": [
      "+--------------------+----+-------------+\n",
      "|             AppName|Free|total_install|\n",
      "+--------------------+----+-------------+\n",
      "|       YouTube Music|true|   2010000000|\n",
      "|          Calculator|true|   1534571378|\n",
      "|              TikTok|true|   1100000000|\n",
      "|Samsung Security ...|true|   1100000000|\n",
      "|            Messages|true|   1024723601|\n",
      "|               Clock|true|   1001061360|\n",
      "|       Secure Folder|true|   1000250000|\n",
      "|        Android Auto|true|   1000010000|\n",
      "|         Device Care|true|   1000010000|\n",
      "|            Briefing|true|   1000001050|\n",
      "+--------------------+----+-------------+\n",
      "\n"
     ]
    },
    {
     "name": "stderr",
     "output_type": "stream",
     "text": [
      "\r",
      "                                                                                \r"
     ]
    }
   ],
   "source": [
    "spark.sql('select AppName, Free, sum(Installs) as total_install\\\n",
    "          from app \\\n",
    "            group by AppName, Free order by sum(Installs) desc limit 10;').show()"
   ]
  },
  {
   "cell_type": "markdown",
   "id": "75cd1b2f",
   "metadata": {},
   "source": [
    "# Category wise distribution of installed apps"
   ]
  },
  {
   "cell_type": "code",
   "execution_count": 24,
   "id": "7e0c2af8",
   "metadata": {},
   "outputs": [
    {
     "name": "stdout",
     "output_type": "stream",
     "text": [
      "+-------------------+------------+------+--------+----+-----+--------+----+--------------+\n",
      "|            AppName|    Category|Rating|Installs|Free|Price|Currency|Size|Content Rating|\n",
      "+-------------------+------------+------+--------+----+-----+--------+----+--------------+\n",
      "|            Gakondo|   Adventure|   0.0|      10|true|  0.0|     USD| 10M|      Everyone|\n",
      "|Ampere Battery Info|       Tools|   4.4|    5000|true|  0.0|     USD|2.9M|      Everyone|\n",
      "|             Vibook|Productivity|   0.0|      50|true|  0.0|     USD|3.7M|      Everyone|\n",
      "+-------------------+------------+------+--------+----+-----+--------+----+--------------+\n",
      "only showing top 3 rows\n",
      "\n"
     ]
    }
   ],
   "source": [
    "df.show(3)"
   ]
  },
  {
   "cell_type": "code",
   "execution_count": 27,
   "id": "d228fcd3",
   "metadata": {},
   "outputs": [
    {
     "name": "stderr",
     "output_type": "stream",
     "text": [
      "\r",
      "[Stage 23:>                                                       (0 + 12) / 12]\r"
     ]
    },
    {
     "name": "stdout",
     "output_type": "stream",
     "text": [
      "+-------------+--------------+\n",
      "|     Category|total_installs|\n",
      "+-------------+--------------+\n",
      "|        Tools|   46440471469|\n",
      "| Productivity|   23314050628|\n",
      "|Communication|   18216594754|\n",
      "|       Action|   17400377388|\n",
      "|Entertainment|   17108498394|\n",
      "|       Casual|   16837071701|\n",
      "|       Arcade|   14501333037|\n",
      "|Music & Audio|   14239411974|\n",
      "|  Photography|   13998958963|\n",
      "|       Social|   12165995316|\n",
      "+-------------+--------------+\n",
      "\n"
     ]
    },
    {
     "name": "stderr",
     "output_type": "stream",
     "text": [
      "\r",
      "[Stage 23:===================>                                     (4 + 8) / 12]\r",
      "\r",
      "                                                                                \r"
     ]
    }
   ],
   "source": [
    "spark.sql('select Category, sum(installs) as total_installs \\\n",
    "         from app \\\n",
    "         group by Category order by sum(installs) desc limit 10;').show()"
   ]
  },
  {
   "cell_type": "markdown",
   "id": "e4f78444",
   "metadata": {},
   "source": [
    "# Top Paid apps"
   ]
  },
  {
   "cell_type": "code",
   "execution_count": 28,
   "id": "c43cb172",
   "metadata": {},
   "outputs": [
    {
     "name": "stdout",
     "output_type": "stream",
     "text": [
      "+-------------------+------------+------+--------+----+-----+--------+----+--------------+\n",
      "|            AppName|    Category|Rating|Installs|Free|Price|Currency|Size|Content Rating|\n",
      "+-------------------+------------+------+--------+----+-----+--------+----+--------------+\n",
      "|            Gakondo|   Adventure|   0.0|      10|true|  0.0|     USD| 10M|      Everyone|\n",
      "|Ampere Battery Info|       Tools|   4.4|    5000|true|  0.0|     USD|2.9M|      Everyone|\n",
      "|             Vibook|Productivity|   0.0|      50|true|  0.0|     USD|3.7M|      Everyone|\n",
      "+-------------------+------------+------+--------+----+-----+--------+----+--------------+\n",
      "only showing top 3 rows\n",
      "\n"
     ]
    }
   ],
   "source": [
    "df.show(3)"
   ]
  },
  {
   "cell_type": "code",
   "execution_count": 33,
   "id": "cd114f99",
   "metadata": {},
   "outputs": [
    {
     "name": "stderr",
     "output_type": "stream",
     "text": [
      "\r",
      "[Stage 32:>                                                       (0 + 12) / 12]\r"
     ]
    },
    {
     "name": "stdout",
     "output_type": "stream",
     "text": [
      "+--------------------+-----+--------------+\n",
      "|             AppName| Free|total_installs|\n",
      "+--------------------+-----+--------------+\n",
      "|       Hitman Sniper|false|      10000000|\n",
      "|           Minecraft|false|      10000000|\n",
      "|Stickman Downhill...|false|      10000000|\n",
      "|Stickman Legends-...|false|      10000000|\n",
      "|          True Skate|false|       5000000|\n",
      "|Poweramp Full Ver...|false|       5000000|\n",
      "|League of Stickma...|false|       5000000|\n",
      "|RFS - Real Flight...|false|       1000000|\n",
      "|      Draw Something|false|       1000000|\n",
      "|         Smart Tools|false|       1000000|\n",
      "+--------------------+-----+--------------+\n",
      "only showing top 10 rows\n",
      "\n"
     ]
    },
    {
     "name": "stderr",
     "output_type": "stream",
     "text": [
      "\r",
      "[Stage 32:=================================>                       (7 + 5) / 12]\r",
      "\r",
      "                                                                                \r"
     ]
    }
   ],
   "source": [
    "spark.sql('select AppName, Free, sum(Installs) as total_installs \\\n",
    "            from app \\\n",
    "            where Free = False \\\n",
    "         group by AppName, Free \\\n",
    "         order by sum(Installs) desc').show(10)"
   ]
  },
  {
   "cell_type": "markdown",
   "id": "24f4aad7",
   "metadata": {},
   "source": [
    "# Top paid rating apps"
   ]
  },
  {
   "cell_type": "code",
   "execution_count": 34,
   "id": "961137be",
   "metadata": {},
   "outputs": [
    {
     "name": "stdout",
     "output_type": "stream",
     "text": [
      "+-------------------+------------+------+--------+----+-----+--------+----+--------------+\n",
      "|            AppName|    Category|Rating|Installs|Free|Price|Currency|Size|Content Rating|\n",
      "+-------------------+------------+------+--------+----+-----+--------+----+--------------+\n",
      "|            Gakondo|   Adventure|   0.0|      10|true|  0.0|     USD| 10M|      Everyone|\n",
      "|Ampere Battery Info|       Tools|   4.4|    5000|true|  0.0|     USD|2.9M|      Everyone|\n",
      "|             Vibook|Productivity|   0.0|      50|true|  0.0|     USD|3.7M|      Everyone|\n",
      "+-------------------+------------+------+--------+----+-----+--------+----+--------------+\n",
      "only showing top 3 rows\n",
      "\n"
     ]
    }
   ],
   "source": [
    "df.show(3)"
   ]
  },
  {
   "cell_type": "code",
   "execution_count": 37,
   "id": "a50e557f",
   "metadata": {},
   "outputs": [
    {
     "name": "stderr",
     "output_type": "stream",
     "text": [
      "\r",
      "[Stage 40:>                                                       (0 + 12) / 12]\r"
     ]
    },
    {
     "name": "stdout",
     "output_type": "stream",
     "text": [
      "+--------------------+------+\n",
      "|             AppName|Rating|\n",
      "+--------------------+------+\n",
      "|भारतीय पुरावा अधि...|   5.0|\n",
      "|FM INTENSIDAD SAN...|   5.0|\n",
      "|  GROVES Buho Market|   5.0|\n",
      "|   FreeMove CrossFit|   5.0|\n",
      "|               Smooa|   5.0|\n",
      "|             Footbar|   5.0|\n",
      "|DIGIPASS SecureCl...|   5.0|\n",
      "|Juniors Kiddo - P...|   5.0|\n",
      "|           SensorLab|   5.0|\n",
      "|StickerPixels - S...|   5.0|\n",
      "+--------------------+------+\n",
      "only showing top 10 rows\n",
      "\n"
     ]
    },
    {
     "name": "stderr",
     "output_type": "stream",
     "text": [
      "\r",
      "[Stage 40:===================>                                     (4 + 8) / 12]\r",
      "\r",
      "                                                                                \r"
     ]
    }
   ],
   "source": [
    "spark.sql('select AppName, Rating \\\n",
    "            from app \\\n",
    "            order by Rating desc').show(10)"
   ]
  },
  {
   "cell_type": "code",
   "execution_count": null,
   "id": "7e547830",
   "metadata": {},
   "outputs": [],
   "source": []
  }
 ],
 "metadata": {
  "kernelspec": {
   "display_name": "Python 3 (ipykernel)",
   "language": "python",
   "name": "python3"
  },
  "language_info": {
   "codemirror_mode": {
    "name": "ipython",
    "version": 3
   },
   "file_extension": ".py",
   "mimetype": "text/x-python",
   "name": "python",
   "nbconvert_exporter": "python",
   "pygments_lexer": "ipython3",
   "version": "3.10.9"
  }
 },
 "nbformat": 4,
 "nbformat_minor": 5
}
